{
 "cells": [
  {
   "cell_type": "markdown",
   "metadata": {
    "slideshow": {
     "slide_type": "slide"
    }
   },
   "source": [
    "# Streaming Audience Analysis \n",
    "\n",
    "by Leon Chan"
   ]
  },
  {
   "cell_type": "markdown",
   "metadata": {
    "slideshow": {
     "slide_type": "slide"
    }
   },
   "source": [
    "## 1. What did you do to assess the data before starting the task?\n",
    "\n",
    "Assess the data quality by checking: \n",
    "- Duplicates in the audience id column (primary key - used to join datasets). \n",
    "- Unique values in the categorical column for anomalies or mis-spelt categorical entries. \n",
    "- Null values. There were only null values in the age and gender columns. \n",
    "- Consistency of the data types across the different tables. "
   ]
  },
  {
   "cell_type": "markdown",
   "metadata": {
    "slideshow": {
     "slide_type": "skip"
    }
   },
   "source": [
    "jupyter nbconvert Streaming_Audience_Analysis.ipynb --to slides --TemplateExporter.exclude_input=True --post serve"
   ]
  },
  {
   "cell_type": "markdown",
   "metadata": {
    "slideshow": {
     "slide_type": "notes"
    }
   },
   "source": [
    "**Importing Modules**"
   ]
  },
  {
   "cell_type": "code",
   "execution_count": 1,
   "metadata": {
    "slideshow": {
     "slide_type": "skip"
    }
   },
   "outputs": [],
   "source": [
    "import pandas as pd\n",
    "import numpy as np\n",
    "import matplotlib.pyplot as plt\n",
    "import seaborn as sns\n",
    "\n",
    "%matplotlib inline\n",
    "sns.set_style('darkgrid')"
   ]
  },
  {
   "cell_type": "markdown",
   "metadata": {
    "slideshow": {
     "slide_type": "skip"
    }
   },
   "source": [
    "**Load Data**"
   ]
  },
  {
   "cell_type": "code",
   "execution_count": 7,
   "metadata": {
    "slideshow": {
     "slide_type": "skip"
    }
   },
   "outputs": [
    {
     "data": {
      "text/html": [
       "<div>\n",
       "<style scoped>\n",
       "    .dataframe tbody tr th:only-of-type {\n",
       "        vertical-align: middle;\n",
       "    }\n",
       "\n",
       "    .dataframe tbody tr th {\n",
       "        vertical-align: top;\n",
       "    }\n",
       "\n",
       "    .dataframe thead th {\n",
       "        text-align: right;\n",
       "    }\n",
       "</style>\n",
       "<table border=\"1\" class=\"dataframe\">\n",
       "  <thead>\n",
       "    <tr style=\"text-align: right;\">\n",
       "      <th></th>\n",
       "      <th>audience_id</th>\n",
       "      <th>age</th>\n",
       "      <th>gender</th>\n",
       "      <th>frequency_segment</th>\n",
       "      <th>distinct networks</th>\n",
       "      <th>distinct programmes</th>\n",
       "      <th>seconds_streamed</th>\n",
       "      <th>minutes_streamed</th>\n",
       "    </tr>\n",
       "  </thead>\n",
       "  <tbody>\n",
       "    <tr>\n",
       "      <th>0</th>\n",
       "      <td>0rXbd5CkFN06eJZtKcU9hDfALXO-n8wTMkd3RUFKiq4</td>\n",
       "      <td>35+</td>\n",
       "      <td>female</td>\n",
       "      <td>B. 2-5 days per week</td>\n",
       "      <td>1</td>\n",
       "      <td>3</td>\n",
       "      <td>16878</td>\n",
       "      <td>281.300000</td>\n",
       "    </tr>\n",
       "    <tr>\n",
       "      <th>1</th>\n",
       "      <td>3PPUU5XGP7tTQXF0CSHICUb0l5Do8I1-bCvwg7r1Wz0</td>\n",
       "      <td>16-34</td>\n",
       "      <td>female</td>\n",
       "      <td>F. less than monthly</td>\n",
       "      <td>1</td>\n",
       "      <td>2</td>\n",
       "      <td>287</td>\n",
       "      <td>4.783333</td>\n",
       "    </tr>\n",
       "    <tr>\n",
       "      <th>2</th>\n",
       "      <td>5dVZLJNLhNHuyh8tVen7SfT-UpZCqNo7E5vUew2BzkA</td>\n",
       "      <td>35+</td>\n",
       "      <td>male</td>\n",
       "      <td>E. monthly</td>\n",
       "      <td>1</td>\n",
       "      <td>2</td>\n",
       "      <td>29</td>\n",
       "      <td>0.483333</td>\n",
       "    </tr>\n",
       "    <tr>\n",
       "      <th>3</th>\n",
       "      <td>8Gm9T_MZSjmv_b3TY2NCnqQATEi3WnVhXaQKgiCyD-I</td>\n",
       "      <td>35+</td>\n",
       "      <td>male</td>\n",
       "      <td>E. monthly</td>\n",
       "      <td>2</td>\n",
       "      <td>3</td>\n",
       "      <td>10374</td>\n",
       "      <td>172.900000</td>\n",
       "    </tr>\n",
       "    <tr>\n",
       "      <th>4</th>\n",
       "      <td>0mRGP-hAbN4s3L7xAiEgP6BZK8dTBoCdvsf_6rGYpCo</td>\n",
       "      <td>35+</td>\n",
       "      <td>male</td>\n",
       "      <td>C. 1-2 days per week</td>\n",
       "      <td>3</td>\n",
       "      <td>5</td>\n",
       "      <td>2360</td>\n",
       "      <td>39.333333</td>\n",
       "    </tr>\n",
       "  </tbody>\n",
       "</table>\n",
       "</div>"
      ],
      "text/plain": [
       "                                   audience_id    age  gender  \\\n",
       "0  0rXbd5CkFN06eJZtKcU9hDfALXO-n8wTMkd3RUFKiq4    35+  female   \n",
       "1  3PPUU5XGP7tTQXF0CSHICUb0l5Do8I1-bCvwg7r1Wz0  16-34  female   \n",
       "2  5dVZLJNLhNHuyh8tVen7SfT-UpZCqNo7E5vUew2BzkA    35+    male   \n",
       "3  8Gm9T_MZSjmv_b3TY2NCnqQATEi3WnVhXaQKgiCyD-I    35+    male   \n",
       "4  0mRGP-hAbN4s3L7xAiEgP6BZK8dTBoCdvsf_6rGYpCo    35+    male   \n",
       "\n",
       "      frequency_segment  distinct networks  distinct programmes  \\\n",
       "0  B. 2-5 days per week                  1                    3   \n",
       "1  F. less than monthly                  1                    2   \n",
       "2            E. monthly                  1                    2   \n",
       "3            E. monthly                  2                    3   \n",
       "4  C. 1-2 days per week                  3                    5   \n",
       "\n",
       "   seconds_streamed  minutes_streamed  \n",
       "0             16878        281.300000  \n",
       "1               287          4.783333  \n",
       "2                29          0.483333  \n",
       "3             10374        172.900000  \n",
       "4              2360         39.333333  "
      ]
     },
     "execution_count": 7,
     "metadata": {},
     "output_type": "execute_result"
    }
   ],
   "source": [
    "all_data = pd.read_csv(\"data_all.csv\") # the three datasets all joined together using the VLOOKUP in Excel. \n",
    "df = all_data.copy() # Make a copy of the original dataset so it isn't affected when manipulation is performed. \n",
    "df['minutes_streamed'] = df['seconds_streamed'].apply(lambda x: x/60)\n",
    "df.fillna('NA', inplace = True)\n",
    "df.head()"
   ]
  },
  {
   "cell_type": "code",
   "execution_count": 14,
   "metadata": {
    "slideshow": {
     "slide_type": "skip"
    }
   },
   "outputs": [],
   "source": [
    "def ordinal_create(df, var_list):\n",
    "    \"\"\"Helper function to convert variables encoded as categoricals which are\n",
    "    actually ordinals. Uses a dictionary to remap, for example: 'F. less than monthly' to 1, 'E. monthly'\n",
    "    to 2, etc. Accepts a DataFrame and a list of variables to remap. Returns a\n",
    "    new DataFrame with edits applied. \n",
    "    Should be run after filling null values or columns with nulls come out as\n",
    "    float instead of int\"\"\"\n",
    "    \n",
    "    qual_mapper = {'F. less than monthly': 1,\n",
    "                  'E. monthly': 2,\n",
    "                  'D. fortnightly': 3,\n",
    "                  'C. 1-2 days per week': 4,\n",
    "                  'B. 2-5 days per week': 5,\n",
    "                  'A. daily (5+ days per week)': 6}\n",
    "\n",
    "    update_df = df.copy()\n",
    "    \n",
    "    for variable in var_list:\n",
    "        update_df[variable] = update_df[variable].replace(qual_mapper)\n",
    "\n",
    "    return update_df"
   ]
  },
  {
   "cell_type": "code",
   "execution_count": 15,
   "metadata": {
    "slideshow": {
     "slide_type": "skip"
    }
   },
   "outputs": [
    {
     "data": {
      "text/html": [
       "<div>\n",
       "<style scoped>\n",
       "    .dataframe tbody tr th:only-of-type {\n",
       "        vertical-align: middle;\n",
       "    }\n",
       "\n",
       "    .dataframe tbody tr th {\n",
       "        vertical-align: top;\n",
       "    }\n",
       "\n",
       "    .dataframe thead th {\n",
       "        text-align: right;\n",
       "    }\n",
       "</style>\n",
       "<table border=\"1\" class=\"dataframe\">\n",
       "  <thead>\n",
       "    <tr style=\"text-align: right;\">\n",
       "      <th></th>\n",
       "      <th>audience_id</th>\n",
       "      <th>age</th>\n",
       "      <th>gender</th>\n",
       "      <th>frequency_segment</th>\n",
       "      <th>distinct networks</th>\n",
       "      <th>distinct programmes</th>\n",
       "      <th>seconds_streamed</th>\n",
       "      <th>minutes_streamed</th>\n",
       "    </tr>\n",
       "  </thead>\n",
       "  <tbody>\n",
       "    <tr>\n",
       "      <th>0</th>\n",
       "      <td>0rXbd5CkFN06eJZtKcU9hDfALXO-n8wTMkd3RUFKiq4</td>\n",
       "      <td>35+</td>\n",
       "      <td>female</td>\n",
       "      <td>5</td>\n",
       "      <td>1</td>\n",
       "      <td>3</td>\n",
       "      <td>16878</td>\n",
       "      <td>281.300000</td>\n",
       "    </tr>\n",
       "    <tr>\n",
       "      <th>1</th>\n",
       "      <td>3PPUU5XGP7tTQXF0CSHICUb0l5Do8I1-bCvwg7r1Wz0</td>\n",
       "      <td>16-34</td>\n",
       "      <td>female</td>\n",
       "      <td>1</td>\n",
       "      <td>1</td>\n",
       "      <td>2</td>\n",
       "      <td>287</td>\n",
       "      <td>4.783333</td>\n",
       "    </tr>\n",
       "    <tr>\n",
       "      <th>2</th>\n",
       "      <td>5dVZLJNLhNHuyh8tVen7SfT-UpZCqNo7E5vUew2BzkA</td>\n",
       "      <td>35+</td>\n",
       "      <td>male</td>\n",
       "      <td>2</td>\n",
       "      <td>1</td>\n",
       "      <td>2</td>\n",
       "      <td>29</td>\n",
       "      <td>0.483333</td>\n",
       "    </tr>\n",
       "    <tr>\n",
       "      <th>3</th>\n",
       "      <td>8Gm9T_MZSjmv_b3TY2NCnqQATEi3WnVhXaQKgiCyD-I</td>\n",
       "      <td>35+</td>\n",
       "      <td>male</td>\n",
       "      <td>2</td>\n",
       "      <td>2</td>\n",
       "      <td>3</td>\n",
       "      <td>10374</td>\n",
       "      <td>172.900000</td>\n",
       "    </tr>\n",
       "    <tr>\n",
       "      <th>4</th>\n",
       "      <td>0mRGP-hAbN4s3L7xAiEgP6BZK8dTBoCdvsf_6rGYpCo</td>\n",
       "      <td>35+</td>\n",
       "      <td>male</td>\n",
       "      <td>4</td>\n",
       "      <td>3</td>\n",
       "      <td>5</td>\n",
       "      <td>2360</td>\n",
       "      <td>39.333333</td>\n",
       "    </tr>\n",
       "  </tbody>\n",
       "</table>\n",
       "</div>"
      ],
      "text/plain": [
       "                                   audience_id    age  gender  \\\n",
       "0  0rXbd5CkFN06eJZtKcU9hDfALXO-n8wTMkd3RUFKiq4    35+  female   \n",
       "1  3PPUU5XGP7tTQXF0CSHICUb0l5Do8I1-bCvwg7r1Wz0  16-34  female   \n",
       "2  5dVZLJNLhNHuyh8tVen7SfT-UpZCqNo7E5vUew2BzkA    35+    male   \n",
       "3  8Gm9T_MZSjmv_b3TY2NCnqQATEi3WnVhXaQKgiCyD-I    35+    male   \n",
       "4  0mRGP-hAbN4s3L7xAiEgP6BZK8dTBoCdvsf_6rGYpCo    35+    male   \n",
       "\n",
       "   frequency_segment  distinct networks  distinct programmes  \\\n",
       "0                  5                  1                    3   \n",
       "1                  1                  1                    2   \n",
       "2                  2                  1                    2   \n",
       "3                  2                  2                    3   \n",
       "4                  4                  3                    5   \n",
       "\n",
       "   seconds_streamed  minutes_streamed  \n",
       "0             16878        281.300000  \n",
       "1               287          4.783333  \n",
       "2                29          0.483333  \n",
       "3             10374        172.900000  \n",
       "4              2360         39.333333  "
      ]
     },
     "execution_count": 15,
     "metadata": {},
     "output_type": "execute_result"
    }
   ],
   "source": [
    "df_fs = ordinal_create(df, ['frequency_segment'])\n",
    "# df['minutes_streamed'] = df['seconds_streamed'].apply(lambda x: x/60)\n",
    "# df_.fillna('NA', inplace = True)\n",
    "df_fs.head()"
   ]
  },
  {
   "cell_type": "code",
   "execution_count": 16,
   "metadata": {
    "slideshow": {
     "slide_type": "skip"
    }
   },
   "outputs": [
    {
     "data": {
      "text/plain": [
       "0"
      ]
     },
     "execution_count": 16,
     "metadata": {},
     "output_type": "execute_result"
    }
   ],
   "source": [
    "df.duplicated('audience_id').sum()"
   ]
  },
  {
   "cell_type": "code",
   "execution_count": 17,
   "metadata": {
    "slideshow": {
     "slide_type": "skip"
    }
   },
   "outputs": [
    {
     "name": "stdout",
     "output_type": "stream",
     "text": [
      "---- age ---\n",
      "35+         3099\n",
      "16-34       1088\n",
      "NA           789\n",
      "Under 16      24\n",
      "Name: age, dtype: int64\n",
      "---- gender ---\n",
      "male                 2239\n",
      "female               1510\n",
      "NA                    987\n",
      "prefer not to say     242\n",
      "other                  22\n",
      "Name: gender, dtype: int64\n"
     ]
    }
   ],
   "source": [
    "# Check for anomlies in categorical columns. \n",
    "\n",
    "column_val_counts = ['age', 'gender']\n",
    "\n",
    "for column in column_val_counts:\n",
    "    print(\"---- %s ---\" % column)\n",
    "    print(df[column].value_counts())"
   ]
  },
  {
   "cell_type": "code",
   "execution_count": 18,
   "metadata": {
    "slideshow": {
     "slide_type": "skip"
    }
   },
   "outputs": [
    {
     "data": {
      "text/plain": [
       "audience_id            0\n",
       "age                    0\n",
       "gender                 0\n",
       "frequency_segment      0\n",
       "distinct networks      0\n",
       "distinct programmes    0\n",
       "seconds_streamed       0\n",
       "minutes_streamed       0\n",
       "dtype: int64"
      ]
     },
     "execution_count": 18,
     "metadata": {},
     "output_type": "execute_result"
    }
   ],
   "source": [
    "df.isna().sum()"
   ]
  },
  {
   "cell_type": "code",
   "execution_count": 19,
   "metadata": {
    "slideshow": {
     "slide_type": "skip"
    }
   },
   "outputs": [
    {
     "name": "stdout",
     "output_type": "stream",
     "text": [
      "<class 'pandas.core.frame.DataFrame'>\n",
      "RangeIndex: 5000 entries, 0 to 4999\n",
      "Data columns (total 8 columns):\n",
      " #   Column               Non-Null Count  Dtype  \n",
      "---  ------               --------------  -----  \n",
      " 0   audience_id          5000 non-null   object \n",
      " 1   age                  5000 non-null   object \n",
      " 2   gender               5000 non-null   object \n",
      " 3   frequency_segment    5000 non-null   object \n",
      " 4   distinct networks    5000 non-null   int64  \n",
      " 5   distinct programmes  5000 non-null   int64  \n",
      " 6   seconds_streamed     5000 non-null   int64  \n",
      " 7   minutes_streamed     5000 non-null   float64\n",
      "dtypes: float64(1), int64(3), object(4)\n",
      "memory usage: 312.6+ KB\n"
     ]
    }
   ],
   "source": [
    "# Checking data types and null values for each column.\n",
    "\n",
    "df.info()"
   ]
  },
  {
   "cell_type": "code",
   "execution_count": 20,
   "metadata": {
    "slideshow": {
     "slide_type": "skip"
    }
   },
   "outputs": [
    {
     "data": {
      "text/html": [
       "<div>\n",
       "<style scoped>\n",
       "    .dataframe tbody tr th:only-of-type {\n",
       "        vertical-align: middle;\n",
       "    }\n",
       "\n",
       "    .dataframe tbody tr th {\n",
       "        vertical-align: top;\n",
       "    }\n",
       "\n",
       "    .dataframe thead th {\n",
       "        text-align: right;\n",
       "    }\n",
       "</style>\n",
       "<table border=\"1\" class=\"dataframe\">\n",
       "  <thead>\n",
       "    <tr style=\"text-align: right;\">\n",
       "      <th></th>\n",
       "      <th>frequency_segment</th>\n",
       "      <th>distinct networks</th>\n",
       "      <th>distinct programmes</th>\n",
       "      <th>seconds_streamed</th>\n",
       "      <th>minutes_streamed</th>\n",
       "    </tr>\n",
       "  </thead>\n",
       "  <tbody>\n",
       "    <tr>\n",
       "      <th>frequency_segment</th>\n",
       "      <td>1.000000</td>\n",
       "      <td>0.475890</td>\n",
       "      <td>0.493722</td>\n",
       "      <td>0.479009</td>\n",
       "      <td>0.479009</td>\n",
       "    </tr>\n",
       "    <tr>\n",
       "      <th>distinct networks</th>\n",
       "      <td>0.475890</td>\n",
       "      <td>1.000000</td>\n",
       "      <td>0.671962</td>\n",
       "      <td>0.444236</td>\n",
       "      <td>0.444236</td>\n",
       "    </tr>\n",
       "    <tr>\n",
       "      <th>distinct programmes</th>\n",
       "      <td>0.493722</td>\n",
       "      <td>0.671962</td>\n",
       "      <td>1.000000</td>\n",
       "      <td>0.694092</td>\n",
       "      <td>0.694092</td>\n",
       "    </tr>\n",
       "    <tr>\n",
       "      <th>seconds_streamed</th>\n",
       "      <td>0.479009</td>\n",
       "      <td>0.444236</td>\n",
       "      <td>0.694092</td>\n",
       "      <td>1.000000</td>\n",
       "      <td>1.000000</td>\n",
       "    </tr>\n",
       "    <tr>\n",
       "      <th>minutes_streamed</th>\n",
       "      <td>0.479009</td>\n",
       "      <td>0.444236</td>\n",
       "      <td>0.694092</td>\n",
       "      <td>1.000000</td>\n",
       "      <td>1.000000</td>\n",
       "    </tr>\n",
       "  </tbody>\n",
       "</table>\n",
       "</div>"
      ],
      "text/plain": [
       "                     frequency_segment  distinct networks  \\\n",
       "frequency_segment             1.000000           0.475890   \n",
       "distinct networks             0.475890           1.000000   \n",
       "distinct programmes           0.493722           0.671962   \n",
       "seconds_streamed              0.479009           0.444236   \n",
       "minutes_streamed              0.479009           0.444236   \n",
       "\n",
       "                     distinct programmes  seconds_streamed  minutes_streamed  \n",
       "frequency_segment               0.493722          0.479009          0.479009  \n",
       "distinct networks               0.671962          0.444236          0.444236  \n",
       "distinct programmes             1.000000          0.694092          0.694092  \n",
       "seconds_streamed                0.694092          1.000000          1.000000  \n",
       "minutes_streamed                0.694092          1.000000          1.000000  "
      ]
     },
     "execution_count": 20,
     "metadata": {},
     "output_type": "execute_result"
    }
   ],
   "source": [
    "df_fs.corr()"
   ]
  },
  {
   "cell_type": "markdown",
   "metadata": {
    "slideshow": {
     "slide_type": "skip"
    }
   },
   "source": [
    "**Overview of the Dataset**"
   ]
  },
  {
   "cell_type": "code",
   "execution_count": 21,
   "metadata": {
    "slideshow": {
     "slide_type": "skip"
    }
   },
   "outputs": [
    {
     "data": {
      "text/html": [
       "<div>\n",
       "<style scoped>\n",
       "    .dataframe tbody tr th:only-of-type {\n",
       "        vertical-align: middle;\n",
       "    }\n",
       "\n",
       "    .dataframe tbody tr th {\n",
       "        vertical-align: top;\n",
       "    }\n",
       "\n",
       "    .dataframe thead th {\n",
       "        text-align: right;\n",
       "    }\n",
       "</style>\n",
       "<table border=\"1\" class=\"dataframe\">\n",
       "  <thead>\n",
       "    <tr style=\"text-align: right;\">\n",
       "      <th></th>\n",
       "      <th>distinct networks</th>\n",
       "      <th>distinct programmes</th>\n",
       "      <th>seconds_streamed</th>\n",
       "      <th>minutes_streamed</th>\n",
       "    </tr>\n",
       "  </thead>\n",
       "  <tbody>\n",
       "    <tr>\n",
       "      <th>count</th>\n",
       "      <td>5000.000000</td>\n",
       "      <td>5000.000000</td>\n",
       "      <td>5.000000e+03</td>\n",
       "      <td>5000.000000</td>\n",
       "    </tr>\n",
       "    <tr>\n",
       "      <th>mean</th>\n",
       "      <td>2.331600</td>\n",
       "      <td>9.164400</td>\n",
       "      <td>5.491845e+04</td>\n",
       "      <td>915.307437</td>\n",
       "    </tr>\n",
       "    <tr>\n",
       "      <th>std</th>\n",
       "      <td>2.214458</td>\n",
       "      <td>16.650358</td>\n",
       "      <td>1.273031e+05</td>\n",
       "      <td>2121.718813</td>\n",
       "    </tr>\n",
       "    <tr>\n",
       "      <th>min</th>\n",
       "      <td>1.000000</td>\n",
       "      <td>1.000000</td>\n",
       "      <td>3.000000e+00</td>\n",
       "      <td>0.050000</td>\n",
       "    </tr>\n",
       "    <tr>\n",
       "      <th>25%</th>\n",
       "      <td>1.000000</td>\n",
       "      <td>1.000000</td>\n",
       "      <td>1.599000e+03</td>\n",
       "      <td>26.650000</td>\n",
       "    </tr>\n",
       "    <tr>\n",
       "      <th>50%</th>\n",
       "      <td>1.000000</td>\n",
       "      <td>3.000000</td>\n",
       "      <td>9.493500e+03</td>\n",
       "      <td>158.225000</td>\n",
       "    </tr>\n",
       "    <tr>\n",
       "      <th>75%</th>\n",
       "      <td>3.000000</td>\n",
       "      <td>9.000000</td>\n",
       "      <td>4.605950e+04</td>\n",
       "      <td>767.658333</td>\n",
       "    </tr>\n",
       "    <tr>\n",
       "      <th>max</th>\n",
       "      <td>27.000000</td>\n",
       "      <td>232.000000</td>\n",
       "      <td>1.579728e+06</td>\n",
       "      <td>26328.800000</td>\n",
       "    </tr>\n",
       "  </tbody>\n",
       "</table>\n",
       "</div>"
      ],
      "text/plain": [
       "       distinct networks  distinct programmes  seconds_streamed  \\\n",
       "count        5000.000000          5000.000000      5.000000e+03   \n",
       "mean            2.331600             9.164400      5.491845e+04   \n",
       "std             2.214458            16.650358      1.273031e+05   \n",
       "min             1.000000             1.000000      3.000000e+00   \n",
       "25%             1.000000             1.000000      1.599000e+03   \n",
       "50%             1.000000             3.000000      9.493500e+03   \n",
       "75%             3.000000             9.000000      4.605950e+04   \n",
       "max            27.000000           232.000000      1.579728e+06   \n",
       "\n",
       "       minutes_streamed  \n",
       "count       5000.000000  \n",
       "mean         915.307437  \n",
       "std         2121.718813  \n",
       "min            0.050000  \n",
       "25%           26.650000  \n",
       "50%          158.225000  \n",
       "75%          767.658333  \n",
       "max        26328.800000  "
      ]
     },
     "execution_count": 21,
     "metadata": {},
     "output_type": "execute_result"
    }
   ],
   "source": [
    "df.describe()"
   ]
  },
  {
   "cell_type": "markdown",
   "metadata": {
    "slideshow": {
     "slide_type": "skip"
    }
   },
   "source": []
  },
  {
   "cell_type": "markdown",
   "metadata": {
    "slideshow": {
     "slide_type": "slide"
    }
   },
   "source": [
    "## 2. What did you find?"
   ]
  },
  {
   "cell_type": "markdown",
   "metadata": {
    "slideshow": {
     "slide_type": "slide"
    }
   },
   "source": [
    "**Distribution of minutes streamed**"
   ]
  },
  {
   "cell_type": "code",
   "execution_count": 22,
   "metadata": {
    "slideshow": {
     "slide_type": "fragment"
    }
   },
   "outputs": [
    {
     "data": {
      "image/png": "[encoded data removed]",
      "text/plain": [
       "<Figure size 756x252 with 2 Axes>"
      ]
     },
     "metadata": {},
     "output_type": "display_data"
    }
   ],
   "source": [
    "# hide_code_in_slideshow()\n",
    "\n",
    "fig, axes = plt.subplots(1, 2, figsize = (10.5, 3.5))\n",
    "\n",
    "sns.histplot(data = df, x = 'minutes_streamed', ax = axes[0])\n",
    "axes[0].set_title('Distribution of minutes streamed')\n",
    "\n",
    "sns.histplot(data = df, x = 'minutes_streamed', log_scale = True, ax = axes[1])\n",
    "axes[1].set_title('Log scale')\n",
    "plt.show()"
   ]
  },
  {
   "cell_type": "code",
   "execution_count": 23,
   "metadata": {
    "slideshow": {
     "slide_type": "skip"
    }
   },
   "outputs": [
    {
     "data": {
      "text/plain": [
       "0.3554"
      ]
     },
     "execution_count": 23,
     "metadata": {},
     "output_type": "execute_result"
    }
   ],
   "source": [
    "len(df[df['minutes_streamed'] < 60])/len(df)"
   ]
  },
  {
   "cell_type": "markdown",
   "metadata": {
    "slideshow": {
     "slide_type": "fragment"
    }
   },
   "source": [
    "- Large dispersion ranging from 3 seconds to over 18 days (1.58 million seconds) worth of content streamed. \n",
    "- Majority of the audience stream between 1 minute to 1,000 minutes. Peak count lies between the 10 minutes to 1000 minutes streamed range. \n",
    "- 35% of the audience have streamed 1 hour of content or less.\n",
    "<!-- - 84% of the audience have streamed under 1 day worth of content or less.  -->\n",
    "- Additional information required: What time frame does this dataset cover? "
   ]
  },
  {
   "cell_type": "markdown",
   "metadata": {
    "slideshow": {
     "slide_type": "slide"
    }
   },
   "source": [
    "**Distribution of age**"
   ]
  },
  {
   "cell_type": "code",
   "execution_count": 24,
   "metadata": {
    "slideshow": {
     "slide_type": "skip"
    }
   },
   "outputs": [
    {
     "data": {
      "text/html": [
       "<div>\n",
       "<style scoped>\n",
       "    .dataframe tbody tr th:only-of-type {\n",
       "        vertical-align: middle;\n",
       "    }\n",
       "\n",
       "    .dataframe tbody tr th {\n",
       "        vertical-align: top;\n",
       "    }\n",
       "\n",
       "    .dataframe thead th {\n",
       "        text-align: right;\n",
       "    }\n",
       "</style>\n",
       "<table border=\"1\" class=\"dataframe\">\n",
       "  <thead>\n",
       "    <tr style=\"text-align: right;\">\n",
       "      <th></th>\n",
       "      <th>age</th>\n",
       "      <th>count</th>\n",
       "      <th>percentage</th>\n",
       "    </tr>\n",
       "  </thead>\n",
       "  <tbody>\n",
       "    <tr>\n",
       "      <th>1</th>\n",
       "      <td>35+</td>\n",
       "      <td>3099</td>\n",
       "      <td>61.98</td>\n",
       "    </tr>\n",
       "    <tr>\n",
       "      <th>0</th>\n",
       "      <td>16-34</td>\n",
       "      <td>1088</td>\n",
       "      <td>21.76</td>\n",
       "    </tr>\n",
       "    <tr>\n",
       "      <th>2</th>\n",
       "      <td>NA</td>\n",
       "      <td>789</td>\n",
       "      <td>15.78</td>\n",
       "    </tr>\n",
       "    <tr>\n",
       "      <th>3</th>\n",
       "      <td>Under 16</td>\n",
       "      <td>24</td>\n",
       "      <td>0.48</td>\n",
       "    </tr>\n",
       "  </tbody>\n",
       "</table>\n",
       "</div>"
      ],
      "text/plain": [
       "        age  count  percentage\n",
       "1       35+   3099       61.98\n",
       "0     16-34   1088       21.76\n",
       "2        NA    789       15.78\n",
       "3  Under 16     24        0.48"
      ]
     },
     "execution_count": 24,
     "metadata": {},
     "output_type": "execute_result"
    }
   ],
   "source": [
    "# hide_code_in_slideshow()\n",
    "\n",
    "pc_age = df.groupby(by = 'age')['audience_id'].count().reset_index()\n",
    "pc_age = pc_age.rename(columns = {'audience_id': 'count'})\n",
    "pc_age['percentage'] = pc_age['count'].apply(lambda x: x*100/pc_age['count'].sum())\n",
    "pc_age = pc_age.sort_values(by = 'percentage', ascending = False)\n",
    "pc_age"
   ]
  },
  {
   "cell_type": "code",
   "execution_count": 25,
   "metadata": {
    "slideshow": {
     "slide_type": "fragment"
    }
   },
   "outputs": [
    {
     "data": {
      "image/png": "[encoded data removed]",
      "text/plain": [
       "<Figure size 756x252 with 2 Axes>"
      ]
     },
     "metadata": {},
     "output_type": "display_data"
    }
   ],
   "source": [
    "# hide_code_in_slideshow()\n",
    "\n",
    "fig, axes = plt.subplots(1, 2, figsize = (10.5, 3.5))\n",
    "x_pos = np.arange(len(df['age'].unique()))\n",
    "\n",
    "sns.barplot(x = 'age', y = 'percentage', data = pc_age, ax = axes[0])\n",
    "axes[0].set_title('Distribution of Age (Percentage)')\n",
    "# axes[0].bar(x_pos, height = 2, color=['black', 'red', 'green', 'blue'])\n",
    "\n",
    "\n",
    "order_age = df.groupby(by = 'age')['seconds_streamed'].mean().sort_values(ascending = False).index.values\n",
    "sns.barplot(data = df, x= 'age', y = 'minutes_streamed', order = order_age , ax = axes[1])\n",
    "axes[1].set_title('Minutes streamed for each age group')\n",
    "\n",
    "\n",
    "plt.show()"
   ]
  },
  {
   "cell_type": "markdown",
   "metadata": {
    "slideshow": {
     "slide_type": "fragment"
    }
   },
   "source": [
    "Distribution of age:\n",
    "- Under 16 category is a small minority of the total percentage.\n",
    "- Over 35+ makes up the majority with over 60%, this could be impacted by the wide age range it covers. \n",
    "\n",
    "Minutes streamed for each age group:\n",
    "- NA and 35+ age group streams the most number of minutes. \n",
    "- Followed by 16-34 age group with a significant drop off. "
   ]
  },
  {
   "cell_type": "markdown",
   "metadata": {
    "slideshow": {
     "slide_type": "slide"
    }
   },
   "source": [
    "**Distribution of gender**"
   ]
  },
  {
   "cell_type": "code",
   "execution_count": 26,
   "metadata": {
    "slideshow": {
     "slide_type": "skip"
    }
   },
   "outputs": [
    {
     "data": {
      "text/html": [
       "<div>\n",
       "<style scoped>\n",
       "    .dataframe tbody tr th:only-of-type {\n",
       "        vertical-align: middle;\n",
       "    }\n",
       "\n",
       "    .dataframe tbody tr th {\n",
       "        vertical-align: top;\n",
       "    }\n",
       "\n",
       "    .dataframe thead th {\n",
       "        text-align: right;\n",
       "    }\n",
       "</style>\n",
       "<table border=\"1\" class=\"dataframe\">\n",
       "  <thead>\n",
       "    <tr style=\"text-align: right;\">\n",
       "      <th></th>\n",
       "      <th>gender</th>\n",
       "      <th>count</th>\n",
       "      <th>percentage</th>\n",
       "    </tr>\n",
       "  </thead>\n",
       "  <tbody>\n",
       "    <tr>\n",
       "      <th>2</th>\n",
       "      <td>male</td>\n",
       "      <td>2239</td>\n",
       "      <td>44.78</td>\n",
       "    </tr>\n",
       "    <tr>\n",
       "      <th>1</th>\n",
       "      <td>female</td>\n",
       "      <td>1510</td>\n",
       "      <td>30.20</td>\n",
       "    </tr>\n",
       "    <tr>\n",
       "      <th>0</th>\n",
       "      <td>NA</td>\n",
       "      <td>987</td>\n",
       "      <td>19.74</td>\n",
       "    </tr>\n",
       "    <tr>\n",
       "      <th>4</th>\n",
       "      <td>prefer not to say</td>\n",
       "      <td>242</td>\n",
       "      <td>4.84</td>\n",
       "    </tr>\n",
       "    <tr>\n",
       "      <th>3</th>\n",
       "      <td>other</td>\n",
       "      <td>22</td>\n",
       "      <td>0.44</td>\n",
       "    </tr>\n",
       "  </tbody>\n",
       "</table>\n",
       "</div>"
      ],
      "text/plain": [
       "              gender  count  percentage\n",
       "2               male   2239       44.78\n",
       "1             female   1510       30.20\n",
       "0                 NA    987       19.74\n",
       "4  prefer not to say    242        4.84\n",
       "3              other     22        0.44"
      ]
     },
     "execution_count": 26,
     "metadata": {},
     "output_type": "execute_result"
    }
   ],
   "source": [
    "pc_gender = df.groupby('gender')['audience_id'].count().reset_index()\n",
    "pc_gender.rename(columns = {'audience_id': 'count'}, inplace = True)\n",
    "pc_gender['percentage'] = pc_gender['count'].apply(lambda x: x*100/pc_gender['count'].sum())\n",
    "pc_gender.sort_values(by = 'percentage', ascending = False, inplace = True)\n",
    "pc_gender"
   ]
  },
  {
   "cell_type": "code",
   "execution_count": 27,
   "metadata": {
    "slideshow": {
     "slide_type": "fragment"
    }
   },
   "outputs": [
    {
     "data": {
      "image/png": "[encoded data removed]",
      "text/plain": [
       "<Figure size 756x252 with 2 Axes>"
      ]
     },
     "metadata": {},
     "output_type": "display_data"
    }
   ],
   "source": [
    "fig, axes = plt.subplots(1, 2, figsize = (10.5, 3.5))\n",
    "\n",
    "sns.barplot(x = 'gender', y = 'percentage', data = pc_gender, ax = axes[0])\n",
    "axes[0].set_title('Distribution of Gender (Percentage)')\n",
    "axes[0].tick_params('x', labelrotation = 45)\n",
    "\n",
    "order_gender = df.groupby(by = 'gender')['minutes_streamed'].mean().sort_values(ascending = False).index.values\n",
    "sns.barplot(data = df, x= 'gender', y = 'minutes_streamed', order = order_gender)\n",
    "axes[1].set_title('Minutes streamed for each gender category')\n",
    "axes[1].tick_params('x', labelrotation = 45)\n",
    "\n",
    "plt.show()"
   ]
  },
  {
   "cell_type": "markdown",
   "metadata": {
    "slideshow": {
     "slide_type": "fragment"
    }
   },
   "source": [
    "Distribution of gender:\n",
    "- Large male audience (\\~45%) compared with female audience (\\~30%). \n",
    "- Under 10% of the audience are in the 'other' or 'prefer not to say' category.\n",
    "\n",
    "Minutes streamed for each gender category:\n",
    "- Not enough data points for 'other' category resulting in a large error bar. \n",
    "- NA category with one of the most minutes streamed. \n",
    "- Minutes streamed for male and female are relatively even. "
   ]
  },
  {
   "cell_type": "markdown",
   "metadata": {
    "slideshow": {
     "slide_type": "slide"
    }
   },
   "source": [
    "**Viewing habits between age groups and gender groups**"
   ]
  },
  {
   "cell_type": "code",
   "execution_count": 30,
   "metadata": {
    "slideshow": {
     "slide_type": "fragment"
    }
   },
   "outputs": [
    {
     "data": {
      "image/png": "[encoded data removed]",
      "text/plain": [
       "<Figure size 864x360 with 2 Axes>"
      ]
     },
     "metadata": {},
     "output_type": "display_data"
    }
   ],
   "source": [
    "fig, axes = plt.subplots(1, 2, figsize = (12, 5))\n",
    "\n",
    "order_fs = df.groupby(by = 'frequency_segment')['minutes_streamed'].mean().sort_values(ascending = False).index.values\n",
    "sns.countplot(data = df, x = 'age', hue = 'frequency_segment', hue_order = order_fs, ax = axes[0])\n",
    "axes[0].set_title('Viewing habits between age groups')\n",
    "axes[0].tick_params('x', labelrotation = 45)\n",
    "\n",
    "sns.countplot(data = df, x = 'gender', hue = 'frequency_segment', hue_order = order_fs, ax = axes[1])\n",
    "axes[1].set_title('Viewing habits between gender groups')\n",
    "axes[1].tick_params('x', labelrotation = 45)\n",
    "\n",
    "plt.show()"
   ]
  },
  {
   "cell_type": "markdown",
   "metadata": {
    "slideshow": {
     "slide_type": "fragment"
    }
   },
   "source": [
    "Viewing habits between age groups:\n",
    "- One notable difference in viewing habits between the two most common age groups (35+ and 16-34) is the 2-5 days per week frequency segment.\n",
    "<!-- - 2-5 days per week most common segment in the 35+ age group, whereas less than monthly is the most common in the 16-34 age group.  -->\n",
    "\n",
    "Viewing habits between genders:\n",
    "- Viewing habits relatively consistent between gender groups. "
   ]
  },
  {
   "cell_type": "markdown",
   "metadata": {
    "slideshow": {
     "slide_type": "skip"
    }
   },
   "source": [
    "**Distribution of frequency segment**"
   ]
  },
  {
   "cell_type": "code",
   "execution_count": 31,
   "metadata": {
    "slideshow": {
     "slide_type": "skip"
    }
   },
   "outputs": [
    {
     "data": {
      "text/html": [
       "<div>\n",
       "<style scoped>\n",
       "    .dataframe tbody tr th:only-of-type {\n",
       "        vertical-align: middle;\n",
       "    }\n",
       "\n",
       "    .dataframe tbody tr th {\n",
       "        vertical-align: top;\n",
       "    }\n",
       "\n",
       "    .dataframe thead th {\n",
       "        text-align: right;\n",
       "    }\n",
       "</style>\n",
       "<table border=\"1\" class=\"dataframe\">\n",
       "  <thead>\n",
       "    <tr style=\"text-align: right;\">\n",
       "      <th></th>\n",
       "      <th>frequency_segment</th>\n",
       "      <th>count</th>\n",
       "      <th>percentage</th>\n",
       "    </tr>\n",
       "  </thead>\n",
       "  <tbody>\n",
       "    <tr>\n",
       "      <th>0</th>\n",
       "      <td>A. daily (5+ days per week)</td>\n",
       "      <td>302</td>\n",
       "      <td>6.04</td>\n",
       "    </tr>\n",
       "    <tr>\n",
       "      <th>1</th>\n",
       "      <td>B. 2-5 days per week</td>\n",
       "      <td>1161</td>\n",
       "      <td>23.22</td>\n",
       "    </tr>\n",
       "    <tr>\n",
       "      <th>2</th>\n",
       "      <td>C. 1-2 days per week</td>\n",
       "      <td>615</td>\n",
       "      <td>12.30</td>\n",
       "    </tr>\n",
       "    <tr>\n",
       "      <th>3</th>\n",
       "      <td>D. fortnightly</td>\n",
       "      <td>892</td>\n",
       "      <td>17.84</td>\n",
       "    </tr>\n",
       "    <tr>\n",
       "      <th>4</th>\n",
       "      <td>E. monthly</td>\n",
       "      <td>855</td>\n",
       "      <td>17.10</td>\n",
       "    </tr>\n",
       "    <tr>\n",
       "      <th>5</th>\n",
       "      <td>F. less than monthly</td>\n",
       "      <td>1175</td>\n",
       "      <td>23.50</td>\n",
       "    </tr>\n",
       "  </tbody>\n",
       "</table>\n",
       "</div>"
      ],
      "text/plain": [
       "             frequency_segment  count  percentage\n",
       "0  A. daily (5+ days per week)    302        6.04\n",
       "1         B. 2-5 days per week   1161       23.22\n",
       "2         C. 1-2 days per week    615       12.30\n",
       "3               D. fortnightly    892       17.84\n",
       "4                   E. monthly    855       17.10\n",
       "5         F. less than monthly   1175       23.50"
      ]
     },
     "execution_count": 31,
     "metadata": {},
     "output_type": "execute_result"
    }
   ],
   "source": [
    "pc_fs = df.groupby(by = 'frequency_segment')['audience_id'].count().reset_index()\n",
    "pc_fs.rename(columns = {'audience_id': 'count'}, inplace = True)\n",
    "pc_fs['percentage'] = pc_fs['count'].apply(lambda x: x*100/pc_fs['count'].sum())\n",
    "pc_fs"
   ]
  },
  {
   "cell_type": "code",
   "execution_count": 32,
   "metadata": {
    "slideshow": {
     "slide_type": "skip"
    }
   },
   "outputs": [
    {
     "data": {
      "image/png": "[encoded data removed]",
      "text/plain": [
       "<Figure size 432x288 with 1 Axes>"
      ]
     },
     "metadata": {},
     "output_type": "display_data"
    }
   ],
   "source": [
    "sns.barplot(x = 'frequency_segment', y = 'percentage', data = pc_fs, order = order_fs)\n",
    "plt.xticks(rotation = 'vertical')\n",
    "plt.title('Distrbution of Frequency Segment (Percentage)')\n",
    "plt.show()\n",
    "\n",
    "# fig, axes = plt.subplots(1, 2, figsize = (10.5, 3.5))\n",
    "\n",
    "# sns.barplot(x = 'frequency_segment', y = 'percentage', data = pc_fs, order = order_fs, ax = axes[0])\n",
    "# axes[0].set_title('Distribution of Frequency Segment (Percentage)')\n",
    "# axes[0].tick_params('x', labelrotation = 90)\n",
    "\n",
    "# sns.barplot(data = df, x = 'frequency_segment', y = 'minutes_streamed', order = order_fs)\n",
    "# axes[1].set_title('Minutes streamed by frequency segment')\n",
    "# axes[1].tick_params('x', labelrotation = 90)\n",
    "\n",
    "\n",
    "# ['F. less than monthly',\n",
    "#                   'E. monthly',\n",
    "#                   'D. fortnightly',\n",
    "#                   'C. 1-2 days per week',\n",
    "#                   'B. 2-5 days per week',\n",
    "#                   'A. daily (5+ days per week)']"
   ]
  },
  {
   "cell_type": "markdown",
   "metadata": {
    "slideshow": {
     "slide_type": "skip"
    }
   },
   "source": [
    "Distribution of frequency segment\n",
    "- The least common frequency segment is the daily (5+ days per week) with around 5%. \n",
    "- The segments which are 2 - 5 days per week and less than monthly are the most common, with around 25% of the audience falling into each segment. "
   ]
  },
  {
   "cell_type": "markdown",
   "metadata": {
    "slideshow": {
     "slide_type": "slide"
    }
   },
   "source": [
    "**Distinct networks and distinct programmes for each frequency segment**"
   ]
  },
  {
   "cell_type": "code",
   "execution_count": 33,
   "metadata": {
    "slideshow": {
     "slide_type": "fragment"
    }
   },
   "outputs": [
    {
     "data": {
      "image/png": "[encoded data removed]",
      "text/plain": [
       "<Figure size 1008x288 with 2 Axes>"
      ]
     },
     "metadata": {},
     "output_type": "display_data"
    }
   ],
   "source": [
    "fig, axes = plt.subplots(1, 2, figsize = (14, 4))\n",
    "\n",
    "# sns.barplot(data = df, x = 'frequency_segment', y = 'minutes_streamed', order = order_fs, ax = axes[0])\n",
    "# axes[0].set_title('Minutes streamed by frequency segment')\n",
    "# axes[0].tick_params('x', labelrotation = 90)\n",
    "\n",
    "sns.barplot(data = df, x = 'frequency_segment', y = 'distinct networks', order = order_fs, ax = axes[0])\n",
    "axes[0].set_title('Distinct networks by frequency segment')\n",
    "axes[0].tick_params('x', labelrotation = 90)\n",
    "\n",
    "sns.barplot(data = df, x = 'frequency_segment', y = 'distinct programmes', order = order_fs, ax = axes[1])\n",
    "axes[1].set_title('Distinct programmes by frequency segment')\n",
    "axes[1].tick_params('x', labelrotation = 90)\n",
    "\n",
    "\n",
    "# plt.legend(['1. A'])\n",
    "# plt.title('Minutes streamed by frequency segment')\n",
    "# plt.xticks(rotation = 'vertical')\n",
    "plt.show()"
   ]
  },
  {
   "cell_type": "code",
   "execution_count": 34,
   "metadata": {
    "slideshow": {
     "slide_type": "skip"
    }
   },
   "outputs": [
    {
     "name": "stdout",
     "output_type": "stream",
     "text": [
      "7.0\n",
      "36.05000000000018\n"
     ]
    }
   ],
   "source": [
    "print(df['distinct networks'].quantile(0.95))\n",
    "print(df['distinct programmes'].quantile(0.95))"
   ]
  },
  {
   "cell_type": "markdown",
   "metadata": {
    "slideshow": {
     "slide_type": "fragment"
    }
   },
   "source": [
    "- The more frequent users are also more active. They tune into more distinct networks and programmes. \n",
    "- 95% of the audience tunes into 7 distinct networks or less. \n",
    "- 95% of the audience tunes into 36 programmes or less. "
   ]
  },
  {
   "cell_type": "markdown",
   "metadata": {
    "slideshow": {
     "slide_type": "slide"
    }
   },
   "source": [
    "def ordinal_create(df, var_list):\n",
    "\n",
    "    \"\"\"Helper function to convert variables encoded as categoricals which are\n",
    "    actually ordinals. Uses a dictionary to remap, for example: 'F. less than monthly' to 1, 'E. monthly'\n",
    "    to 2, etc. Accepts a DataFrame and a list of variables to remap. Returns a\n",
    "    new DataFrame with edits applied. \n",
    "    Should be run after filling null values or columns with nulls come out as\n",
    "    float instead of int\"\"\"\n",
    "    \n",
    "    qual_mapper = {'F. less than monthly': 1,\n",
    "                  'E. monthly': 2,\n",
    "                  'D. fortnightly': 3,\n",
    "                  'C. 1-2 days per week': 4,\n",
    "                  'B. 2-5 days per week': 5,\n",
    "                  'A. daily (5+ days per week)': 6}\n",
    "\n",
    "    for variable in var_list:\n",
    "        update_df[variable] = update_df[variable].replace(qual_mapper)\n",
    "\n",
    "    return update_df"
   ]
  },
  {
   "cell_type": "code",
   "execution_count": 35,
   "metadata": {
    "slideshow": {
     "slide_type": "slide"
    }
   },
   "outputs": [
    {
     "data": {
      "image/png": "[encoded data removed]",
      "text/plain": [
       "<Figure size 432x288 with 2 Axes>"
      ]
     },
     "metadata": {},
     "output_type": "display_data"
    }
   ],
   "source": [
    "df_fs_corr = df_fs.drop(columns = 'seconds_streamed')\n",
    "df_mx = df_fs_corr.corr()\n",
    "df_mx\n",
    "\n",
    "sns.heatmap(df_mx, annot = True, cmap = 'Blues')\n",
    "plt.title('Correlation matrix')\n",
    "plt.show()"
   ]
  },
  {
   "cell_type": "markdown",
   "metadata": {
    "slideshow": {
     "slide_type": "fragment"
    }
   },
   "source": [
    "- Moderate to strong positive correlation between number of distinct networks and programmes used by the users. \n",
    "- Moderate positive correlation between frequency segment and the number distinct networks, programmes and minutes streamed. "
   ]
  },
  {
   "cell_type": "markdown",
   "metadata": {
    "slideshow": {
     "slide_type": "slide"
    }
   },
   "source": [
    "## 3. What other data would you need for further analysis?\n",
    "\n",
    "- actual ages or number of days streamed per month for analysis using linear regression. \n",
    "- dates and times to gain insight on listening activities and for trend analysis. \n",
    "- geographic data of the audience. \n",
    "- types of device used to stream our content. \n",
    "- session data. \n",
    "- programmes and network data: titles, categories and genres. "
   ]
  },
  {
   "cell_type": "markdown",
   "metadata": {
    "slideshow": {
     "slide_type": "slide"
    }
   },
   "source": [
    "# Thank You"
   ]
  },
  {
   "cell_type": "code",
   "execution_count": null,
   "metadata": {},
   "outputs": [],
   "source": []
  },
  {
   "cell_type": "code",
   "execution_count": null,
   "metadata": {},
   "outputs": [],
   "source": []
  },
  {
   "cell_type": "markdown",
   "metadata": {},
   "source": [
    "# Rough workings"
   ]
  },
  {
   "cell_type": "markdown",
   "metadata": {
    "slideshow": {
     "slide_type": "skip"
    }
   },
   "source": [
    "**Distinct Programmes**"
   ]
  },
  {
   "cell_type": "code",
   "execution_count": 36,
   "metadata": {
    "slideshow": {
     "slide_type": "skip"
    }
   },
   "outputs": [
    {
     "data": {
      "image/png": "[encoded data removed]",
      "text/plain": [
       "<Figure size 360x360 with 1 Axes>"
      ]
     },
     "metadata": {},
     "output_type": "display_data"
    }
   ],
   "source": [
    "sns.displot(data = df, x = 'distinct programmes', kde = False, discrete = True)\n",
    "plt.title('Distribution for Distinct Programmes')\n",
    "plt.show()"
   ]
  },
  {
   "cell_type": "code",
   "execution_count": 37,
   "metadata": {
    "slideshow": {
     "slide_type": "skip"
    }
   },
   "outputs": [
    {
     "data": {
      "text/plain": [
       "<AxesSubplot:xlabel='distinct programmes', ylabel='Count'>"
      ]
     },
     "execution_count": 37,
     "metadata": {},
     "output_type": "execute_result"
    },
    {
     "data": {
      "image/png": "[encoded data removed]",
      "text/plain": [
       "<Figure size 432x288 with 1 Axes>"
      ]
     },
     "metadata": {},
     "output_type": "display_data"
    }
   ],
   "source": [
    "programmes_95 = df[df['distinct programmes'] <36]\n",
    "# sns.displot(data = dp95, x = 'distinct programmes', aspect = 1.4)\n",
    "sns.histplot(data = programmes_95, x = 'distinct programmes', discrete = True)"
   ]
  },
  {
   "cell_type": "code",
   "execution_count": 38,
   "metadata": {
    "slideshow": {
     "slide_type": "skip"
    }
   },
   "outputs": [
    {
     "data": {
      "text/plain": [
       "36.05000000000018"
      ]
     },
     "execution_count": 38,
     "metadata": {},
     "output_type": "execute_result"
    }
   ],
   "source": [
    "df['distinct programmes'].quantile(0.95)"
   ]
  },
  {
   "cell_type": "markdown",
   "metadata": {
    "slideshow": {
     "slide_type": "skip"
    }
   },
   "source": [
    "- There is a large dispersion in the number of distinct programmes that the audience tunes into, ranging from 1 to over 232.\n",
    "- 95% of the audience tunes into 36 programmes or less. \n",
    "-  Most common number of distinct programmes is 1, with a drop off for each additional distinct number of programmes generally speaking. \n"
   ]
  },
  {
   "cell_type": "code",
   "execution_count": 39,
   "metadata": {
    "slideshow": {
     "slide_type": "skip"
    }
   },
   "outputs": [
    {
     "data": {
      "image/png": "[encoded data removed]",
      "text/plain": [
       "<Figure size 432x288 with 1 Axes>"
      ]
     },
     "metadata": {},
     "output_type": "display_data"
    }
   ],
   "source": [
    "seconds_95 = df[df['seconds_streamed'] < 270000]\n",
    "\n",
    "sns.histplot(data = seconds_95, x = 'seconds_streamed')\n",
    "plt.title('Distribution for Seconds Streamed (95% quantile)')\n",
    "plt.show()"
   ]
  },
  {
   "cell_type": "code",
   "execution_count": 40,
   "metadata": {
    "slideshow": {
     "slide_type": "skip"
    }
   },
   "outputs": [
    {
     "data": {
      "text/plain": [
       "2422.763333333334"
      ]
     },
     "execution_count": 40,
     "metadata": {},
     "output_type": "execute_result"
    }
   ],
   "source": [
    "df['minutes_streamed'].quantile(0.9)"
   ]
  },
  {
   "cell_type": "code",
   "execution_count": 41,
   "metadata": {
    "slideshow": {
     "slide_type": "skip"
    }
   },
   "outputs": [
    {
     "data": {
      "text/plain": [
       "79.10000000000001"
      ]
     },
     "execution_count": 41,
     "metadata": {},
     "output_type": "execute_result"
    }
   ],
   "source": [
    "len(df[df['minutes_streamed'] < 1000])/len(df)*100 # under an hour streamed\n",
    "# len(df[df['minutes_streamed'] < 1440])/len(df)*100 "
   ]
  },
  {
   "cell_type": "markdown",
   "metadata": {
    "slideshow": {
     "slide_type": "skip"
    }
   },
   "source": [
    "**age with hue  gender**"
   ]
  },
  {
   "cell_type": "code",
   "execution_count": 42,
   "metadata": {
    "slideshow": {
     "slide_type": "skip"
    }
   },
   "outputs": [
    {
     "data": {
      "image/png": "[encoded data removed]",
      "text/plain": [
       "<Figure size 432x288 with 1 Axes>"
      ]
     },
     "metadata": {},
     "output_type": "display_data"
    }
   ],
   "source": [
    "sns.countplot(data = df, x = 'age', hue = 'gender')\n",
    "plt.show()"
   ]
  },
  {
   "cell_type": "markdown",
   "metadata": {
    "slideshow": {
     "slide_type": "skip"
    }
   },
   "source": [
    "**age with hue frequency_segment**"
   ]
  },
  {
   "cell_type": "code",
   "execution_count": 43,
   "metadata": {
    "slideshow": {
     "slide_type": "skip"
    }
   },
   "outputs": [
    {
     "data": {
      "image/png": "[encoded data removed]",
      "text/plain": [
       "<Figure size 432x288 with 1 Axes>"
      ]
     },
     "metadata": {},
     "output_type": "display_data"
    }
   ],
   "source": [
    "sns.countplot(data = df, x = 'age', hue = 'frequency_segment', hue_order = order_fs)\n",
    "plt.show()"
   ]
  },
  {
   "cell_type": "markdown",
   "metadata": {
    "slideshow": {
     "slide_type": "skip"
    }
   },
   "source": [
    "**gender with hue frequency_segment**"
   ]
  },
  {
   "cell_type": "code",
   "execution_count": 44,
   "metadata": {
    "slideshow": {
     "slide_type": "skip"
    }
   },
   "outputs": [
    {
     "data": {
      "image/png": "[encoded data removed]",
      "text/plain": [
       "<Figure size 432x288 with 1 Axes>"
      ]
     },
     "metadata": {},
     "output_type": "display_data"
    }
   ],
   "source": [
    "sns.countplot(data = df, x = 'gender', hue = 'frequency_segment', hue_order = order_fs)\n",
    "plt.show()"
   ]
  },
  {
   "cell_type": "markdown",
   "metadata": {
    "slideshow": {
     "slide_type": "skip"
    }
   },
   "source": [
    "**frequency_segment vs distinct networks, distinct programmes and minutes_streamed**"
   ]
  },
  {
   "cell_type": "code",
   "execution_count": 45,
   "metadata": {
    "slideshow": {
     "slide_type": "skip"
    }
   },
   "outputs": [
    {
     "data": {
      "image/png": "[encoded data removed]",
      "text/plain": [
       "<Figure size 432x288 with 1 Axes>"
      ]
     },
     "metadata": {},
     "output_type": "display_data"
    }
   ],
   "source": [
    "sns.barplot(data = df, x = 'frequency_segment', y = 'distinct networks', order = order_fs)\n",
    "plt.xticks(rotation = 'vertical')\n",
    "plt.show()"
   ]
  }
 ],
 "metadata": {
  "celltoolbar": "Slideshow",
  "kernelspec": {
   "display_name": "Python 3",
   "language": "python",
   "name": "python3"
  },
  "language_info": {
   "codemirror_mode": {
    "name": "ipython",
    "version": 3
   },
   "file_extension": ".py",
   "mimetype": "text/x-python",
   "name": "python",
   "nbconvert_exporter": "python",
   "pygments_lexer": "ipython3",
   "version": "3.8.5"
  }
 },
 "nbformat": 4,
 "nbformat_minor": 4
}
